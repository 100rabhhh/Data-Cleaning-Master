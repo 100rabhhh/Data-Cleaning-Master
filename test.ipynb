{
 "cells": [
  {
   "cell_type": "code",
   "execution_count": 1,
   "id": "9dc9bb05",
   "metadata": {},
   "outputs": [
    {
     "name": "stdout",
     "output_type": "stream",
     "text": [
      "d:\\PYTHON PROJECT\\PYTHON-DATACLEANING-PROJECT\n"
     ]
    }
   ],
   "source": [
    "import os\n",
    "print(os.getcwd())"
   ]
  },
  {
   "cell_type": "code",
   "execution_count": 2,
   "id": "a4b98cfa",
   "metadata": {},
   "outputs": [],
   "source": [
    "os.chdir('D:\\PYTHON PROJECT\\PYTHON-DATACLEANING-PROJECT')\n"
   ]
  },
  {
   "cell_type": "code",
   "execution_count": 3,
   "id": "3d15c311",
   "metadata": {},
   "outputs": [],
   "source": [
    "#testing in notebook\n",
    "\n",
    "from app import data_cleaning_master"
   ]
  },
  {
   "cell_type": "code",
   "execution_count": 4,
   "id": "6c12001b",
   "metadata": {},
   "outputs": [
    {
     "name": "stdout",
     "output_type": "stream",
     "text": [
      "Thank you for giving the details\n",
      "Please wait for 3seconds! Checking file path\n",
      "Dataset is excel file!\n",
      "Please wait for 4seconds! Checking total columns and rows\n",
      "Dataset contain total rows: 24 \n",
      " Total Columns: 10\n",
      "Please wait for 8seconds! Checking total duplicates\n",
      "Datasets has total dubplicates records:4\n",
      "Please wait for 3seconds! Checking total duplicates rows\n",
      "Please wait for 3seconds! Checking for missing values\n",
      "Dataset has Total missing value:17\n",
      "Dataset has Total missing value by columns \n",
      " Sales_ID          2\n",
      "Product           2\n",
      "Price             2\n",
      "Quantity          3\n",
      "Customer_ID       1\n",
      "Order_Date        2\n",
      "City              2\n",
      "Sales_Rep         0\n",
      "Discount          2\n",
      "Payment_Method    1\n",
      "dtype: int64\n",
      "Please wait for 3seconds! Checking datasets\n"
     ]
    },
    {
     "name": "stderr",
     "output_type": "stream",
     "text": [
      "D:\\PYTHON PROJECT\\PYTHON-DATACLEANING-PROJECT\\app.py:123: SettingWithCopyWarning: \n",
      "A value is trying to be set on a copy of a slice from a DataFrame.\n",
      "Try using .loc[row_indexer,col_indexer] = value instead\n",
      "\n",
      "See the caveats in the documentation: https://pandas.pydata.org/pandas-docs/stable/user_guide/indexing.html#returning-a-view-versus-a-copy\n",
      "  df[co] = df[co].fillna(df[co].mean())\n",
      "D:\\PYTHON PROJECT\\PYTHON-DATACLEANING-PROJECT\\app.py:127: SettingWithCopyWarning: \n",
      "A value is trying to be set on a copy of a slice from a DataFrame\n",
      "\n",
      "See the caveats in the documentation: https://pandas.pydata.org/pandas-docs/stable/user_guide/indexing.html#returning-a-view-versus-a-copy\n",
      "  df.dropna(subset=co, inplace=True)\n",
      "D:\\PYTHON PROJECT\\PYTHON-DATACLEANING-PROJECT\\app.py:123: SettingWithCopyWarning: \n",
      "A value is trying to be set on a copy of a slice from a DataFrame.\n",
      "Try using .loc[row_indexer,col_indexer] = value instead\n",
      "\n",
      "See the caveats in the documentation: https://pandas.pydata.org/pandas-docs/stable/user_guide/indexing.html#returning-a-view-versus-a-copy\n",
      "  df[co] = df[co].fillna(df[co].mean())\n",
      "D:\\PYTHON PROJECT\\PYTHON-DATACLEANING-PROJECT\\app.py:127: SettingWithCopyWarning: \n",
      "A value is trying to be set on a copy of a slice from a DataFrame\n",
      "\n",
      "See the caveats in the documentation: https://pandas.pydata.org/pandas-docs/stable/user_guide/indexing.html#returning-a-view-versus-a-copy\n",
      "  df.dropna(subset=co, inplace=True)\n",
      "D:\\PYTHON PROJECT\\PYTHON-DATACLEANING-PROJECT\\app.py:127: SettingWithCopyWarning: \n",
      "A value is trying to be set on a copy of a slice from a DataFrame\n",
      "\n",
      "See the caveats in the documentation: https://pandas.pydata.org/pandas-docs/stable/user_guide/indexing.html#returning-a-view-versus-a-copy\n",
      "  df.dropna(subset=co, inplace=True)\n",
      "D:\\PYTHON PROJECT\\PYTHON-DATACLEANING-PROJECT\\app.py:127: SettingWithCopyWarning: \n",
      "A value is trying to be set on a copy of a slice from a DataFrame\n",
      "\n",
      "See the caveats in the documentation: https://pandas.pydata.org/pandas-docs/stable/user_guide/indexing.html#returning-a-view-versus-a-copy\n",
      "  df.dropna(subset=co, inplace=True)\n",
      "D:\\PYTHON PROJECT\\PYTHON-DATACLEANING-PROJECT\\app.py:123: SettingWithCopyWarning: \n",
      "A value is trying to be set on a copy of a slice from a DataFrame.\n",
      "Try using .loc[row_indexer,col_indexer] = value instead\n",
      "\n",
      "See the caveats in the documentation: https://pandas.pydata.org/pandas-docs/stable/user_guide/indexing.html#returning-a-view-versus-a-copy\n",
      "  df[co] = df[co].fillna(df[co].mean())\n",
      "D:\\PYTHON PROJECT\\PYTHON-DATACLEANING-PROJECT\\app.py:127: SettingWithCopyWarning: \n",
      "A value is trying to be set on a copy of a slice from a DataFrame\n",
      "\n",
      "See the caveats in the documentation: https://pandas.pydata.org/pandas-docs/stable/user_guide/indexing.html#returning-a-view-versus-a-copy\n",
      "  df.dropna(subset=co, inplace=True)\n"
     ]
    },
    {
     "name": "stdout",
     "output_type": "stream",
     "text": [
      "Please wait for 8seconds! Exporting datasets\n",
      "Congrats! Your Dataset is cleaned! Number of rows: 15 Number of columns: 10\n",
      "Dataset is saved!\n"
     ]
    }
   ],
   "source": [
    "data_cleaning_master('sales.xlsx', 'sales_data_test')"
   ]
  }
 ],
 "metadata": {
  "kernelspec": {
   "display_name": "Python 3",
   "language": "python",
   "name": "python3"
  },
  "language_info": {
   "codemirror_mode": {
    "name": "ipython",
    "version": 3
   },
   "file_extension": ".py",
   "mimetype": "text/x-python",
   "name": "python",
   "nbconvert_exporter": "python",
   "pygments_lexer": "ipython3",
   "version": "3.10.0"
  }
 },
 "nbformat": 4,
 "nbformat_minor": 5
}
